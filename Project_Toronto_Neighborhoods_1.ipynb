{
 "cells": [
  {
   "cell_type": "markdown",
   "metadata": {},
   "source": [
    "# First part of the project: Website Scraping\n",
    "#### Several assumptions\n",
    "1. The dataframe will consist of three columns: PostalCode, Borough, and Neighborhood\n",
    "2. Only process the cells that have an assigned borough. Ignore cells with a borough that is Not assigned.\n",
    "3. If a cell has a borough but a Not assigned neighborhood, then the neighborhood will be the same as the borough. "
   ]
  },
  {
   "cell_type": "code",
   "execution_count": 113,
   "metadata": {},
   "outputs": [],
   "source": [
    "from bs4 import BeautifulSoup\n",
    "import requests\n",
    "\n",
    "# get html source\n",
    "html_source = requests.get('https://en.wikipedia.org/wiki/List_of_postal_codes_of_Canada:_M').text\n",
    "soup = BeautifulSoup(html_source, 'lxml')\n",
    "\n",
    "# get the table from the page\n",
    "table = soup.find('table')\n",
    "\n",
    "tablelist = []\n",
    "for element in table.find_all('tr'):\n",
    "    tablelist.append(element.text.split('\\n')[1:4])"
   ]
  },
  {
   "cell_type": "code",
   "execution_count": 114,
   "metadata": {},
   "outputs": [],
   "source": [
    "# create dataframe\n",
    "import pandas as pd\n",
    "\n",
    "df = pd.DataFrame(tablelist)\n",
    "df.columns = df.iloc[0]\n",
    "df = df.loc[1:]\n",
    "\n",
    "# Dropping cells with borough not assigned\n",
    "na_borough = df[df['Borough'] == 'Not assigned'].index\n",
    "df.drop(na_borough, axis=0, inplace=True)\n",
    "\n",
    "# Assign neighbourhood\n",
    "na_neighbourhood = df[df['Neighbourhood'] == 'Not assigned'].index\n",
    "for idx in na_neighbourhood:\n",
    "    df.loc[idx,'Neighbourhood'] = df.loc[idx]['Borough']"
   ]
  },
  {
   "cell_type": "code",
   "execution_count": 115,
   "metadata": {},
   "outputs": [
    {
     "data": {
      "text/plain": [
       "(210, 3)"
      ]
     },
     "execution_count": 115,
     "metadata": {},
     "output_type": "execute_result"
    }
   ],
   "source": [
    "df.shape"
   ]
  },
  {
   "cell_type": "code",
   "execution_count": null,
   "metadata": {},
   "outputs": [],
   "source": []
  }
 ],
 "metadata": {
  "kernelspec": {
   "display_name": "Python 3",
   "language": "python",
   "name": "python3"
  },
  "language_info": {
   "codemirror_mode": {
    "name": "ipython",
    "version": 3
   },
   "file_extension": ".py",
   "mimetype": "text/x-python",
   "name": "python",
   "nbconvert_exporter": "python",
   "pygments_lexer": "ipython3",
   "version": "3.7.4"
  }
 },
 "nbformat": 4,
 "nbformat_minor": 2
}
