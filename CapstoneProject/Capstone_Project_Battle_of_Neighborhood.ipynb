{
 "cells": [
  {
   "cell_type": "markdown",
   "metadata": {},
   "source": [
    "# The battle of Neighborhoods: Toronto vs New York"
   ]
  },
  {
   "cell_type": "markdown",
   "metadata": {},
   "source": [
    "## 1. Introduction/Business Problem\n",
    "In this project, I will do the comparison between Toronto and New York.\n",
    "Although there exist many use cases related to data science, I will limit the case in this project only for business. The Foursquare API facilitates us to give a lot of information in one area. We can use this information for business projects.\n",
    "\n",
    "First of all, we will define the audience. In this project, we will help people who wants to open a shop/cafe.\n",
    "We can use the data to confirm if the decision is correct. There are some questions that can help me to do the analysis. These questions are as follows:\n",
    "1. Will a cafe be popular in both cities? Or is it better to open it in Toronto? Or New York?\n",
    "2. In which neighborhood do we need to open the cafe?\n",
    "3. Will it work to open a second cafe if a neighborhood already has one?\n",
    "4. Or maybe it is better to open another type of shop?\n",
    "5. Are the cafes located near another venues?"
   ]
  },
  {
   "cell_type": "markdown",
   "metadata": {},
   "source": [
    "## 2. Data\n",
    "To help doing the analysis, we will need to obtain some data.\n",
    "From the previous notebooks and projects, we can have the neighborhood data in Toronto and New York.\n",
    "Using the foursquare API, we can extract the favorite venues in each neighborhood for a certain radius.\n",
    "We can check whether a neighborhood has already a cafe in it.\n",
    "We can check if a cafe works well, or maybe a restaurant works better.\n",
    "For this, I think we need to do a comparison of how many cafes available in both cities.\n",
    "And the distribution of venues in a neighborhood."
   ]
  }
 ],
 "metadata": {
  "kernelspec": {
   "display_name": "Python 3",
   "language": "python",
   "name": "python3"
  },
  "language_info": {
   "codemirror_mode": {
    "name": "ipython",
    "version": 3
   },
   "file_extension": ".py",
   "mimetype": "text/x-python",
   "name": "python",
   "nbconvert_exporter": "python",
   "pygments_lexer": "ipython3",
   "version": "3.7.4"
  }
 },
 "nbformat": 4,
 "nbformat_minor": 2
}
