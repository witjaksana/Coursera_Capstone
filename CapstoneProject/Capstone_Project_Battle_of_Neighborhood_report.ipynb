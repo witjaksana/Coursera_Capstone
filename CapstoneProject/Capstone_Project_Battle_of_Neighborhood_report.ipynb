{
 "cells": [
  {
   "cell_type": "markdown",
   "metadata": {},
   "source": [
    "# Report: The battle of Toronto vs New York"
   ]
  },
  {
   "cell_type": "markdown",
   "metadata": {},
   "source": [
    "## 1. Introduction/Business Problem"
   ]
  },
  {
   "cell_type": "markdown",
   "metadata": {},
   "source": [
    "In the final project, we need to use quantitative data to perform some analysis. For this project, I am doing the comparison between the neighborhoods in Toronto and New York.\n",
    "Although there exist many use cases related to data science, I will limit the case in this project only for businesses. \n",
    "\n",
    "The goal is to verify if opening a cafe/restaurant is a good idea in one of the two cities, and if it is, which one is better: Toronto or New York? Both cities are two major business cities in Canada and USA so finding this information will be quite challenging. I use Foursquare API to help getting a lot of information from each area.\n",
    "\n",
    "This project may interest a lot of people, from small business investors or even a small business owner. We can help them find the best location from the existing data and confirm if their decision is correct.\n",
    "There are some questions that can help us to define the problem. These questions are as follows:\n",
    "1. Will a cafe be popular in both cities? Or is it better to open it in Toronto? Or New York?\n",
    "2. In which neighborhood do we need to open the cafe?\n",
    "3. Will it work to open a second cafe if a neighborhood already has one?\n",
    "4. Or maybe it is better to open another type of shop?"
   ]
  },
  {
   "cell_type": "markdown",
   "metadata": {},
   "source": [
    "## 2. Data"
   ]
  },
  {
   "cell_type": "markdown",
   "metadata": {},
   "source": [
    "We use existing neighborhood data from Toronto and New York which are available from the course. For New York, the course has been providing JSON file which contains details such as neighborhoods and their locations. The file can be accessed [here](https://github.com/witjaksana/Coursera_Capstone/blob/master/CapstoneProject/newyork_data.json) from my github repositories. The data of Toronto is more complicated to obtain. The neighborhood list is available from [Wikipedia](https://en.wikipedia.org/wiki/List_of_postal_codes_of_Canada:_M) and the location of neighborhood is recorded in a [CSV file](https://github.com/witjaksana/Coursera_Capstone/blob/master/CapstoneProject/Geospatial_data.csv) in my github repositories.\n",
    "\n",
    "Using the foursquare API, I can extract the favorite venues in each neighborhood for a certain radius.\n",
    "Foursquare API gives a lot of information such as the venues or restaurants available in a neighborhood."
   ]
  },
  {
   "cell_type": "markdown",
   "metadata": {},
   "source": [
    "# 3. Methodology"
   ]
  },
  {
   "cell_type": "markdown",
   "metadata": {},
   "source": [
    "To find the answers of our problem, we perform data analysis on the Toronto and New York data. Most of the data have been used in the course as examples and assignments.\n",
    "\n",
    "The same analysis is applied to both cities. \n",
    "\n",
    "First, I extract the data of the two cities. Some data are already prepared in CSV. Other can be extracted using BeautifulSoup library, such as the table from Wikipedia. The location data can be obtained from geocoder library in Python. I visualize the neighborhoods location using folium library in Python. And using Foursquare API, I can retrieve the top venues in the radius of 500 m within each neighborhood.\n",
    "\n",
    "And then, I use a machine learning technique called k-means clustering. With k-means clustering, unlabeled data can be put in clusters in order to classify the data based on similarity. I use the top venues retrieved from Foursquare to classify the neighborhoods. The number of clusters is fixed to 5.\n",
    "\n",
    "After the neighborhoods are classified, I perform the same analysis for each cluster. First of all, I visualize the venues for each cluster and see if the cluster is suitable for our business objective; in our case the objective is to open coffee shops or cafés. The number of existing coffee shops and cafés are maybe useful too. And then, I also check which neighborhoods do not have coffee shop or café as their top venues. And then, a comparison for the two cities can be done too."
   ]
  },
  {
   "cell_type": "markdown",
   "metadata": {},
   "source": [
    "# 4. Results"
   ]
  },
  {
   "cell_type": "markdown",
   "metadata": {},
   "source": [
    "The methodology presented in the previous section provides some interesting results.\n",
    "First of all, there are more neighborhoods in New York than Toronto. I put together neighborhoods that have same postal code in Toronto. And then, the k-means clustering gives quite an interesting result for Toronto. There is one cluster which is dominant in Toronto. In this cluster, the top venues are restaurants, coffee shops, and cafes. In New York, the clusters are more distributed among the neighborhoods. Since it as bigger area, I limit the analysis to Manhattan area.\n",
    "\n",
    "When I compare the number of existing coffee shops and cafés, Toronto has 69 in total whereas Manhattan has only 16 coffee shops and 6 cafés in the top 5 venues. In Toronto, coffee shops and cafés are the highest among the top venues. On the other hand, Manhattan has the highest number of Italian restaurants. For Toronto, there is only one cluster that has all the coffee shops, cafés, and restaurants among the top venues. In New York, these are well distributed."
   ]
  },
  {
   "cell_type": "markdown",
   "metadata": {},
   "source": [
    "# 5. Discussion"
   ]
  },
  {
   "cell_type": "markdown",
   "metadata": {},
   "source": [
    "From the results of k-means clustering, we obtain that Toronto has one major cluster which contains coffee shops and cafés. However, some neighborhoods do not have coffee shops and cafés. On the one hand, this shows that the city has already many coffee shops and cafés so competing against existing stores is probably a challenge. We know that this business works since they are listed as top venues. And they are not well distributed since there are still 34 neighborhoods in the cluster 1 which are not popular for coffee shops.\n",
    "\n",
    "In New York, particularly Manhattan, the number of coffee shops and cafés is lower, but they are more distributed. Many neighborhoods have coffee shops and cafés as top venues. Of course, the number of neighborhoods in Manhattan is lower than the entire Toronto. But this result can give some prediction on what will the other Boroughs give. "
   ]
  },
  {
   "cell_type": "markdown",
   "metadata": {},
   "source": [
    "# 6. Conclusion"
   ]
  },
  {
   "cell_type": "markdown",
   "metadata": {},
   "source": [
    "Based on the results and discussions, we can draw some conclusions. If store owners choose to open stores near competiters, Toronto perhaps is better. It seems that coffee shops, cafés, and restaurants work very well there. And there are many specific areas with coffee shops as top venues. Similar neighborhoods that do not have coffee shops are also potential in this case. In New York, coffee shops and cafés are more distributed. Besides exotic neighborhoods such as Chinatown or maybe Soho, coffee shops can be found. Probably there are some reasons or it's just because the customers are also well distributed. More data is required to make more precise conclusions, e.g. populations, etc."
   ]
  }
 ],
 "metadata": {
  "kernelspec": {
   "display_name": "Python 3",
   "language": "python",
   "name": "python3"
  },
  "language_info": {
   "codemirror_mode": {
    "name": "ipython",
    "version": 3
   },
   "file_extension": ".py",
   "mimetype": "text/x-python",
   "name": "python",
   "nbconvert_exporter": "python",
   "pygments_lexer": "ipython3",
   "version": "3.7.4"
  }
 },
 "nbformat": 4,
 "nbformat_minor": 2
}
